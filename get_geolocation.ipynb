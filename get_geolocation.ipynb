{
  "nbformat": 4,
  "nbformat_minor": 0,
  "metadata": {
    "colab": {
      "provenance": [],
      "authorship_tag": "ABX9TyPuTnx5WJIcL1Q6tAoCj8XO",
      "include_colab_link": true
    },
    "kernelspec": {
      "name": "python3",
      "display_name": "Python 3"
    },
    "language_info": {
      "name": "python"
    }
  },
  "cells": [
    {
      "cell_type": "markdown",
      "metadata": {
        "id": "view-in-github",
        "colab_type": "text"
      },
      "source": [
        "<a href=\"https://colab.research.google.com/github/ganase/get_geolocation_of_lake/blob/main/get_geolocation.ipynb\" target=\"_parent\"><img src=\"https://colab.research.google.com/assets/colab-badge.svg\" alt=\"Open In Colab\"/></a>"
      ]
    },
    {
      "cell_type": "code",
      "execution_count": 1,
      "metadata": {
        "colab": {
          "base_uri": "https://localhost:8080/"
        },
        "id": "rr6UcactpkMp",
        "outputId": "3919e433-8585-492d-cd77-7b0011566835"
      },
      "outputs": [
        {
          "output_type": "stream",
          "name": "stderr",
          "text": [
            "geocoding: 100%|██████████| 80/80 [01:19<00:00,  1.01it/s]"
          ]
        },
        {
          "output_type": "stream",
          "name": "stdout",
          "text": [
            "✅ 完了: gsi_lakes_80_with_latlon.csv を出力しました\n"
          ]
        },
        {
          "output_type": "stream",
          "name": "stderr",
          "text": [
            "\n"
          ]
        }
      ],
      "source": [
        "import time, pandas as pd\n",
        "from geopy.geocoders import Nominatim\n",
        "from geopy.extra.rate_limiter import RateLimiter\n",
        "from tqdm import tqdm\n",
        "\n",
        "# 1) 元 CSV 読み込み\n",
        "df = pd.read_csv(\"gsi_lakes_80.csv\", encoding=\"utf-8-sig\")\n",
        "\n",
        "# 2) Nominatim 初期化（User-Agent は必須）\n",
        "geolocator = Nominatim(user_agent=\"gsi-lakes-script\")\n",
        "geocode    = RateLimiter(geolocator.geocode, min_delay_seconds=1)\n",
        "\n",
        "# 3) 各行をジオコーディング\n",
        "lats, lons = [], []\n",
        "for _, row in tqdm(df.iterrows(), total=len(df), desc=\"geocoding\"):\n",
        "    query = f\"{row['湖沼名']} {row['都道府県']} 日本\"\n",
        "    loc   = geocode(query, exactly_one=True)\n",
        "    if loc:\n",
        "        lats.append(loc.latitude)\n",
        "        lons.append(loc.longitude)\n",
        "    else:\n",
        "        lats.append(None)\n",
        "        lons.append(None)\n",
        "\n",
        "df[\"緯度\"] = lats\n",
        "df[\"経度\"] = lons\n",
        "\n",
        "# 4) 保存（UTF-8 BOM）\n",
        "df.to_csv(\"gsi_lakes_80_with_latlon.csv\", index=False, encoding=\"utf-8-sig\")\n",
        "print(\"✅ 完了: gsi_lakes_80_with_latlon.csv を出力しました\")\n"
      ]
    }
  ]
}